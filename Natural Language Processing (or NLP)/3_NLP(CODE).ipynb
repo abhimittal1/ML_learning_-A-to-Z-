{
 "cells": [
  {
   "cell_type": "markdown",
   "id": "4de67685",
   "metadata": {},
   "source": [
    "## 🧾 **Example**\n",
    "\n",
    "Suppose the original review is:\n",
    "\n",
    "> `\"I do **not** like this movie. It was boring and dull!\"`\n",
    "\n",
    "### Step-by-Step:\n",
    "\n",
    "| Step                            | Result                                                                              |\n",
    "| ------------------------------- | ----------------------------------------------------------------------------------- |\n",
    "| Remove punctuation              | `\"I do not like this movie It was boring and dull\"`                                 |\n",
    "| Lowercase                       | `\"i do not like this movie it was boring and dull\"`                                 |\n",
    "| Tokenize                        | `['i', 'do', 'not', 'like', 'this', 'movie', 'it', 'was', 'boring', 'and', 'dull']` |\n",
    "| Remove stopwords (except 'not') | `['not', 'like', 'movie', 'boring', 'dull']`                                        |\n",
    "| Stemming                        | `['not', 'like', 'movi', 'bore', 'dull']`                                           |\n",
    "| Final cleaned string            | `'not like movi bore dull'`                                                         |\n",
    "\n",
    "This processed review is now in the `corpus`.\n",
    "\n",
    "---\n",
    "\n",
    "## 🧮 **Bag of Words Representation**\n",
    "\n",
    "Imagine you have 3 processed reviews:\n",
    "\n",
    "1. `'love movi'`\n",
    "2. `'hate movi'`\n",
    "3. `'not like movi bore dull'`\n",
    "\n",
    "Vocabulary (unique words):\n",
    "`['love', 'hate', 'not', 'like', 'movi', 'bore', 'dull']`\n",
    "\n",
    "Now we represent each review as a vector indicating **word presence** (or frequency):\n",
    "\n",
    "| Word | R1 | R2 | R3 |\n",
    "| ---- | -- | -- | -- |\n",
    "| love | 1  | 0  | 0  |\n",
    "| hate | 0  | 1  | 0  |\n",
    "| not  | 0  | 0  | 1  |\n",
    "| like | 0  | 0  | 1  |\n",
    "| movi | 1  | 1  | 1  |\n",
    "| bore | 0  | 0  | 1  |\n",
    "| dull | 0  | 0  | 1  |\n",
    "\n",
    "---\n",
    "\n",
    "## 📊 Diagram (Conceptual Visualization)\n",
    "\n",
    "```\n",
    "           ┌─────────────────────────────────────┐\n",
    "           │         Corpus of Documents         │\n",
    "           └─────────────────────────────────────┘\n",
    "                        ↓\n",
    "              Cleaned using NLP steps:\n",
    "             - Lowercasing\n",
    "             - Removing punctuation\n",
    "             - Removing stopwords\n",
    "             - Stemming\n",
    "                        ↓\n",
    "               Cleaned Text in Corpus\n",
    "                        ↓\n",
    "              Bag of Words Matrix Created\n",
    "                        ↓\n",
    "┌────────────┬────┬────┬────┬────┬────┐\n",
    "│ Vocabulary │ R1 │ R2 │ R3 │ .. │ RN │\n",
    "├────────────┼────┼────┼────┼────┼────┤\n",
    "│ love       │  1 │  0 │  0 │    │    │\n",
    "│ hate       │  0 │  1 │  0 │    │    │\n",
    "│ movi       │  1 │  1 │  1 │    │    │\n",
    "│ ...        │    │    │    │    │    │\n",
    "└────────────┴────┴────┴────┴────┴────┘\n",
    "```\n",
    "\n"
   ]
  },
  {
   "cell_type": "markdown",
   "id": "70567c0c",
   "metadata": {},
   "source": [
    "### Importing the libraries"
   ]
  },
  {
   "cell_type": "code",
   "execution_count": 105,
   "id": "ac9332fc",
   "metadata": {},
   "outputs": [],
   "source": [
    "import numpy as np\n",
    "import matplotlib.pyplot as plt\n",
    "import pandas as pd"
   ]
  },
  {
   "cell_type": "markdown",
   "id": "b972e05b",
   "metadata": {},
   "source": [
    "### Importing the dataset"
   ]
  },
  {
   "cell_type": "code",
   "execution_count": 106,
   "id": "4bf8054a",
   "metadata": {},
   "outputs": [],
   "source": [
    "dataset = pd.read_csv('Restaurant_Reviews.tsv' , delimiter='\\t', quoting= 3)\n",
    "# quoting= 3 --> this will remove the \" in the file to avoid the problems"
   ]
  },
  {
   "cell_type": "markdown",
   "id": "09f87868",
   "metadata": {},
   "source": [
    "### Cleaning the texts"
   ]
  },
  {
   "cell_type": "code",
   "execution_count": 107,
   "id": "c0225c24",
   "metadata": {},
   "outputs": [
    {
     "name": "stderr",
     "output_type": "stream",
     "text": [
      "[nltk_data] Downloading package stopwords to\n",
      "[nltk_data]     C:\\Users\\abhis\\AppData\\Roaming\\nltk_data...\n",
      "[nltk_data]   Package stopwords is already up-to-date!\n"
     ]
    }
   ],
   "source": [
    "import re\n",
    "import nltk\n",
    "nltk.download('stopwords')\n",
    "from nltk.corpus import stopwords\n",
    "from nltk.stem.porter import PorterStemmer\n",
    "\n",
    "corpus = []  # Will hold the cleaned and processed reviews\n",
    "\n",
    "for i in range(0, 1000):\n",
    "  review = re.sub('[^a-zA-Z]', ' ', dataset['Review'][i])  # Remove numbers and punctuation\n",
    "  review = review.lower()  # Convert to lowercase\n",
    "  review = review.split()  # Tokenize the review into words\n",
    "\n",
    "  ps = PorterStemmer()\n",
    "  all_stopwords = stopwords.words('english')  # Common words like \"the\", \"is\", etc.\n",
    "  all_stopwords.remove('not')  # Keep 'not' for sentiment analysis\n",
    "\n",
    "  # Stemming and removing stopwords\n",
    "  review = [ps.stem(word) for word in review if word not in set(all_stopwords)]\n",
    "\n",
    "  review = ' '.join(review)  # Rejoin cleaned words into one string\n",
    "  corpus.append(review)  # Add to final list\n"
   ]
  },
  {
   "cell_type": "markdown",
   "id": "c16a1072",
   "metadata": {},
   "source": [
    "### Creating the Bag of Words model"
   ]
  },
  {
   "cell_type": "code",
   "execution_count": 108,
   "id": "562aad32",
   "metadata": {},
   "outputs": [],
   "source": [
    "from sklearn.feature_extraction.text import CountVectorizer\n",
    "\n",
    "# Convert the text corpus into a matrix of token counts (Bag of Words model)\n",
    "# Keep only the 1500 most frequent words to reduce dimensionality\n",
    "cv = CountVectorizer(max_features=1500 , ngram_range=(1, 2))\n",
    "\n",
    "# Fit the model on the corpus and transform the text data into numerical feature vectors\n",
    "X = cv.fit_transform(corpus).toarray()\n",
    "\n",
    "# Extract the labels (target values) from the last column of the dataset\n",
    "y = dataset.iloc[:, -1].values"
   ]
  },
  {
   "cell_type": "markdown",
   "id": "8ce40873",
   "metadata": {},
   "source": [
    "### Splitting the dataset into the Training set and Test set"
   ]
  },
  {
   "cell_type": "code",
   "execution_count": 109,
   "id": "036fb3bf",
   "metadata": {},
   "outputs": [],
   "source": [
    "from sklearn.model_selection import train_test_split\n",
    "X_train, X_test, y_train, y_test = train_test_split(X, y, test_size = 0.20, random_state = 0)"
   ]
  },
  {
   "cell_type": "markdown",
   "id": "6d3cdeda",
   "metadata": {},
   "source": [
    "### Training the Naive Bayes model on the Training set"
   ]
  },
  {
   "cell_type": "code",
   "execution_count": 110,
   "id": "fca7d05e",
   "metadata": {},
   "outputs": [
    {
     "data": {
      "text/plain": [
       "\"\\nKernal SVM have 78% accuracy in the NLP\\n\\nfrom sklearn.svm import  SVC\\nclassifier = SVC(kernel= 'rbf' , random_state=0) # build the model\\nclassifier.fit(X_train , y_train)\\n\""
      ]
     },
     "execution_count": 110,
     "metadata": {},
     "output_type": "execute_result"
    }
   ],
   "source": [
    "from sklearn.naive_bayes import GaussianNB\n",
    "classifier = GaussianNB()\n",
    "classifier.fit(X_train, y_train)\n",
    "\n",
    "\n",
    "'''\n",
    "This has the 72%\n",
    "\n",
    "from sklearn.tree import DecisionTreeClassifier\n",
    "# Build the CART model (Decision Tree)\n",
    "classifier = DecisionTreeClassifier(criterion='entropy', random_state=0)\n",
    "# Train the model\n",
    "classifier.fit(X_train, y_train)\n",
    "'''\n",
    "\n",
    "\"\"\"\n",
    "Kernal SVM have 78% accuracy in the NLP\n",
    "\n",
    "from sklearn.svm import  SVC\n",
    "classifier = SVC(kernel= 'rbf' , random_state=0) # build the model\n",
    "classifier.fit(X_train , y_train)\n",
    "\"\"\""
   ]
  },
  {
   "cell_type": "markdown",
   "id": "fee35efc",
   "metadata": {},
   "source": [
    "### Predicting the Test set results"
   ]
  },
  {
   "cell_type": "code",
   "execution_count": 111,
   "id": "4ce47342",
   "metadata": {},
   "outputs": [
    {
     "name": "stdout",
     "output_type": "stream",
     "text": [
      "[[1 0]\n",
      " [1 0]\n",
      " [1 0]\n",
      " [0 0]\n",
      " [0 0]\n",
      " [0 0]\n",
      " [1 1]\n",
      " [1 0]\n",
      " [0 0]\n",
      " [1 1]\n",
      " [1 1]\n",
      " [1 1]\n",
      " [1 0]\n",
      " [1 1]\n",
      " [1 1]\n",
      " [1 1]\n",
      " [0 0]\n",
      " [0 0]\n",
      " [0 0]\n",
      " [1 1]\n",
      " [0 0]\n",
      " [0 1]\n",
      " [1 1]\n",
      " [1 0]\n",
      " [1 0]\n",
      " [0 1]\n",
      " [1 1]\n",
      " [1 1]\n",
      " [1 1]\n",
      " [0 0]\n",
      " [1 1]\n",
      " [1 1]\n",
      " [1 1]\n",
      " [1 1]\n",
      " [1 1]\n",
      " [0 0]\n",
      " [1 0]\n",
      " [0 0]\n",
      " [1 0]\n",
      " [1 1]\n",
      " [1 1]\n",
      " [1 0]\n",
      " [1 1]\n",
      " [0 0]\n",
      " [0 0]\n",
      " [0 0]\n",
      " [1 0]\n",
      " [1 0]\n",
      " [0 0]\n",
      " [0 0]\n",
      " [1 1]\n",
      " [1 1]\n",
      " [1 1]\n",
      " [1 1]\n",
      " [0 0]\n",
      " [1 0]\n",
      " [1 1]\n",
      " [1 1]\n",
      " [0 0]\n",
      " [1 1]\n",
      " [1 0]\n",
      " [0 0]\n",
      " [1 0]\n",
      " [1 0]\n",
      " [1 1]\n",
      " [0 0]\n",
      " [1 1]\n",
      " [1 1]\n",
      " [1 1]\n",
      " [1 0]\n",
      " [1 1]\n",
      " [1 1]\n",
      " [1 1]\n",
      " [1 1]\n",
      " [0 0]\n",
      " [1 0]\n",
      " [1 1]\n",
      " [0 1]\n",
      " [0 0]\n",
      " [1 1]\n",
      " [0 0]\n",
      " [1 1]\n",
      " [1 1]\n",
      " [0 0]\n",
      " [1 1]\n",
      " [1 1]\n",
      " [1 0]\n",
      " [0 0]\n",
      " [1 1]\n",
      " [1 0]\n",
      " [0 0]\n",
      " [1 1]\n",
      " [0 0]\n",
      " [0 0]\n",
      " [1 0]\n",
      " [1 1]\n",
      " [1 0]\n",
      " [0 1]\n",
      " [1 1]\n",
      " [1 0]\n",
      " [0 1]\n",
      " [1 1]\n",
      " [1 1]\n",
      " [1 0]\n",
      " [0 1]\n",
      " [0 0]\n",
      " [1 1]\n",
      " [1 1]\n",
      " [0 0]\n",
      " [0 1]\n",
      " [0 1]\n",
      " [1 1]\n",
      " [0 0]\n",
      " [1 0]\n",
      " [1 1]\n",
      " [0 0]\n",
      " [1 1]\n",
      " [1 1]\n",
      " [1 1]\n",
      " [1 1]\n",
      " [1 1]\n",
      " [0 0]\n",
      " [1 1]\n",
      " [1 0]\n",
      " [0 0]\n",
      " [1 0]\n",
      " [1 1]\n",
      " [1 0]\n",
      " [0 0]\n",
      " [0 1]\n",
      " [1 0]\n",
      " [0 1]\n",
      " [0 0]\n",
      " [0 0]\n",
      " [1 1]\n",
      " [1 1]\n",
      " [1 1]\n",
      " [1 1]\n",
      " [1 1]\n",
      " [1 0]\n",
      " [0 1]\n",
      " [1 1]\n",
      " [1 1]\n",
      " [0 0]\n",
      " [1 0]\n",
      " [0 0]\n",
      " [0 0]\n",
      " [1 1]\n",
      " [1 1]\n",
      " [1 1]\n",
      " [1 1]\n",
      " [0 1]\n",
      " [1 1]\n",
      " [1 1]\n",
      " [1 0]\n",
      " [0 0]\n",
      " [1 1]\n",
      " [1 1]\n",
      " [1 1]\n",
      " [1 0]\n",
      " [1 0]\n",
      " [1 0]\n",
      " [0 1]\n",
      " [1 1]\n",
      " [0 0]\n",
      " [0 0]\n",
      " [1 0]\n",
      " [0 0]\n",
      " [0 0]\n",
      " [1 1]\n",
      " [0 0]\n",
      " [1 1]\n",
      " [1 1]\n",
      " [0 0]\n",
      " [0 0]\n",
      " [1 1]\n",
      " [0 0]\n",
      " [1 1]\n",
      " [0 0]\n",
      " [0 1]\n",
      " [1 1]\n",
      " [0 0]\n",
      " [0 0]\n",
      " [1 0]\n",
      " [0 0]\n",
      " [0 1]\n",
      " [0 0]\n",
      " [1 1]\n",
      " [0 0]\n",
      " [1 1]\n",
      " [1 1]\n",
      " [0 0]\n",
      " [1 0]\n",
      " [1 0]\n",
      " [1 1]\n",
      " [0 0]\n",
      " [1 1]\n",
      " [1 1]\n",
      " [0 0]\n",
      " [1 1]]\n"
     ]
    }
   ],
   "source": [
    "y_pred = classifier.predict(X_test)\n",
    "print(np.concatenate((y_pred.reshape(len(y_pred),1), y_test.reshape(len(y_test),1)),1))"
   ]
  },
  {
   "cell_type": "markdown",
   "id": "51dff4b7",
   "metadata": {},
   "source": [
    "### Making the Confusion Matrix"
   ]
  },
  {
   "cell_type": "code",
   "execution_count": 112,
   "id": "d2270567",
   "metadata": {},
   "outputs": [
    {
     "name": "stdout",
     "output_type": "stream",
     "text": [
      "[[58 39]\n",
      " [15 88]]\n"
     ]
    },
    {
     "data": {
      "text/plain": [
       "0.73"
      ]
     },
     "execution_count": 112,
     "metadata": {},
     "output_type": "execute_result"
    }
   ],
   "source": [
    "from sklearn.metrics import confusion_matrix, accuracy_score\n",
    "cm = confusion_matrix(y_test, y_pred)\n",
    "print(cm)\n",
    "accuracy_score(y_test, y_pred)"
   ]
  },
  {
   "cell_type": "markdown",
   "id": "de67808c",
   "metadata": {},
   "source": [
    "## Predicting if a single review is positive or negative"
   ]
  },
  {
   "cell_type": "markdown",
   "id": "de80d328",
   "metadata": {},
   "source": [
    "## Positive\n",
    "Use our model to predict if the following review:\n",
    "\n",
    "\"I love this restaurant so much\"\n",
    "\n",
    "is positive or negative."
   ]
  },
  {
   "cell_type": "code",
   "execution_count": 113,
   "id": "55f954d0",
   "metadata": {},
   "outputs": [
    {
     "name": "stdout",
     "output_type": "stream",
     "text": [
      "[1]\n"
     ]
    }
   ],
   "source": [
    "new_review = 'I love this restaurant so much'\n",
    "new_review = re.sub('[^a-zA-Z]', ' ', new_review)\n",
    "new_review = new_review.lower()\n",
    "new_review = new_review.split()\n",
    "ps = PorterStemmer()\n",
    "all_stopwords = stopwords.words('english')\n",
    "all_stopwords.remove('not')\n",
    "new_review = [ps.stem(word) for word in new_review if not word in set(all_stopwords)]\n",
    "new_review = ' '.join(new_review)\n",
    "new_corpus = [new_review]\n",
    "new_X_test = cv.transform(new_corpus).toarray()\n",
    "new_y_pred = classifier.predict(new_X_test)\n",
    "print(new_y_pred)"
   ]
  },
  {
   "cell_type": "markdown",
   "id": "76095b69",
   "metadata": {},
   "source": [
    "## Negative"
   ]
  },
  {
   "cell_type": "code",
   "execution_count": 114,
   "id": "f3ea9ef9",
   "metadata": {},
   "outputs": [
    {
     "name": "stdout",
     "output_type": "stream",
     "text": [
      "[0]\n"
     ]
    }
   ],
   "source": [
    "new_review = 'I hate this restaurant so much'\n",
    "new_review = re.sub('[^a-zA-Z]', ' ', new_review)\n",
    "new_review = new_review.lower()\n",
    "new_review = new_review.split()\n",
    "ps = PorterStemmer()\n",
    "all_stopwords = stopwords.words('english')\n",
    "all_stopwords.remove('not')\n",
    "new_review = [ps.stem(word) for word in new_review if not word in set(all_stopwords)]\n",
    "new_review = ' '.join(new_review)\n",
    "new_corpus = [new_review]\n",
    "new_X_test = cv.transform(new_corpus).toarray()\n",
    "new_y_pred = classifier.predict(new_X_test)\n",
    "print(new_y_pred)"
   ]
  }
 ],
 "metadata": {
  "kernelspec": {
   "display_name": "base",
   "language": "python",
   "name": "python3"
  },
  "language_info": {
   "codemirror_mode": {
    "name": "ipython",
    "version": 3
   },
   "file_extension": ".py",
   "mimetype": "text/x-python",
   "name": "python",
   "nbconvert_exporter": "python",
   "pygments_lexer": "ipython3",
   "version": "3.12.7"
  }
 },
 "nbformat": 4,
 "nbformat_minor": 5
}
