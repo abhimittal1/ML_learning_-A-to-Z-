{
 "cells": [
  {
   "cell_type": "markdown",
   "id": "f12e4273",
   "metadata": {},
   "source": [
    "## Importing the Lib"
   ]
  },
  {
   "cell_type": "markdown",
   "id": "0964cd74",
   "metadata": {},
   "source": [
    "## Part 1 : Preprocessing"
   ]
  },
  {
   "cell_type": "markdown",
   "id": "7c5c1531",
   "metadata": {},
   "source": [
    ">Preprocess the Training Set"
   ]
  },
  {
   "cell_type": "markdown",
   "id": "83b900d3",
   "metadata": {},
   "source": [
    "> Preprocessing the Test Set"
   ]
  },
  {
   "cell_type": "markdown",
   "id": "254c14ea",
   "metadata": {},
   "source": [
    "## Part 2 : Building CNN"
   ]
  },
  {
   "cell_type": "markdown",
   "id": "bcbb68ef",
   "metadata": {},
   "source": [
    " > Initialising the CNN"
   ]
  },
  {
   "cell_type": "markdown",
   "id": "53425ff3",
   "metadata": {},
   "source": [
    "> Step 1 - Convolution"
   ]
  },
  {
   "cell_type": "markdown",
   "id": "8362c679",
   "metadata": {},
   "source": [
    "> Step 2 - Pooling"
   ]
  },
  {
   "cell_type": "markdown",
   "id": "bf7fb975",
   "metadata": {},
   "source": [
    "> Adding a second convolutional layer"
   ]
  },
  {
   "cell_type": "markdown",
   "id": "b470d2f3",
   "metadata": {},
   "source": [
    "> Step 3 - Flattening"
   ]
  },
  {
   "cell_type": "markdown",
   "id": "e740966a",
   "metadata": {},
   "source": [
    "> Step 4 - Full Connection"
   ]
  },
  {
   "cell_type": "markdown",
   "id": "479feb6c",
   "metadata": {},
   "source": [
    "> Step 5 - Output Layer"
   ]
  },
  {
   "cell_type": "markdown",
   "id": "c1908394",
   "metadata": {},
   "source": [
    "## Part 3 : Training CNN"
   ]
  },
  {
   "cell_type": "markdown",
   "id": "f232ee4e",
   "metadata": {},
   "source": [
    "> Compiling the CNN"
   ]
  },
  {
   "cell_type": "markdown",
   "id": "7ba06a5f",
   "metadata": {},
   "source": [
    "> Training the CNN on the Training set and evaluating it on the Test set"
   ]
  },
  {
   "cell_type": "markdown",
   "id": "a995da38",
   "metadata": {},
   "source": [
    "### Part 4 : Results"
   ]
  }
 ],
 "metadata": {
  "language_info": {
   "name": "python"
  }
 },
 "nbformat": 4,
 "nbformat_minor": 5
}
