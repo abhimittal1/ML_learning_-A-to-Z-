{
 "cells": [
  {
   "cell_type": "code",
   "execution_count": null,
   "id": "095a7e91",
   "metadata": {},
   "outputs": [],
   "source": [
    "import numpy as np\n",
    "import matplotlib.pyplot as plt\n",
    "import pandas as pd"
   ]
  },
  {
   "cell_type": "code",
   "execution_count": null,
   "id": "a1e5dabe",
   "metadata": {},
   "outputs": [],
   "source": [
    "dataset = pd.read_csv(\"Social_Network_Ads.csv\")\n",
    "X = dataset.iloc[ : , : -1].values\n",
    "Y = dataset.iloc[ : , -1].values"
   ]
  },
  {
   "cell_type": "code",
   "execution_count": null,
   "id": "71072ed7",
   "metadata": {},
   "outputs": [],
   "source": [
    "from sklearn.model_selection import train_test_split\n",
    "X_train, X_test, Y_train, Y_test = train_test_split(X, Y, test_size=0.25, random_state=0)"
   ]
  },
  {
   "cell_type": "code",
   "execution_count": null,
   "id": "f3e42fb5",
   "metadata": {},
   "outputs": [],
   "source": [
    "from sklearn.preprocessing import StandardScaler\n",
    "sc = StandardScaler()\n",
    "X_train = sc.fit_transform(X_train)\n",
    "X_test = sc.transform(X_test)"
   ]
  },
  {
   "cell_type": "markdown",
   "id": "b28bcc7f",
   "metadata": {},
   "source": [
    "### Kernal SVM -- non linear model"
   ]
  },
  {
   "cell_type": "code",
   "execution_count": null,
   "id": "2c83abee",
   "metadata": {},
   "outputs": [],
   "source": [
    "from sklearn.svm import  SVC\n",
    "classifier = SVC(kernel= 'rbf' , random_state=0) # build the model\n",
    "classifier.fit(X_train , Y_train)"
   ]
  },
  {
   "cell_type": "code",
   "execution_count": null,
   "id": "d2c2139c",
   "metadata": {},
   "outputs": [],
   "source": [
    "print(classifier.predict(sc.transform([[30,87000]]))) \n",
    "X_predict = classifier.predict(X_test)\n",
    "print(X_predict)"
   ]
  },
  {
   "cell_type": "code",
   "execution_count": null,
   "id": "72de99e0",
   "metadata": {},
   "outputs": [],
   "source": [
    "# Set print precision\n",
    "np.set_printoptions(precision=2)\n",
    "\n",
    "# Make sure both are 2D arrays with the same number of rows\n",
    "# Reshape if necessary\n",
    "Y_test = Y_test.reshape(-1, 1)\n",
    "X_predict = X_predict.reshape(-1, 1)\n",
    "\n",
    "# Concatenate along columns (axis=1)\n",
    "results = np.concatenate((Y_test, X_predict), axis=1)\n",
    "\n",
    "# Print results\n",
    "print(results)"
   ]
  },
  {
   "cell_type": "code",
   "execution_count": null,
   "id": "300fe697",
   "metadata": {},
   "outputs": [],
   "source": [
    "from sklearn.metrics import confusion_matrix ,accuracy_score\n",
    "cm = confusion_matrix(Y_test , X_predict) \n",
    "print(cm)\n",
    "accuracy_score(Y_test , X_predict) #this will give the number "
   ]
  },
  {
   "cell_type": "code",
   "execution_count": null,
   "id": "993a6a05",
   "metadata": {},
   "outputs": [],
   "source": [
    "import numpy as np\n",
    "import matplotlib.pyplot as plt\n",
    "from matplotlib.colors import ListedColormap\n",
    "\n",
    "# Assume you already have: X_train, Y_train, classifier\n",
    "\n",
    "# Create meshgrid\n",
    "X_set, y_set = X_train, Y_train.ravel()\n",
    "X1, X2 = np.meshgrid(\n",
    "    np.arange(start=X_set[:, 0].min() - 1, stop=X_set[:, 0].max() + 1, step=0.01),\n",
    "    np.arange(start=X_set[:, 1].min() - 1, stop=X_set[:, 1].max() + 1, step=0.01)\n",
    ")\n",
    "\n",
    "# Predict on meshgrid\n",
    "Z = classifier.predict(np.array([X1.ravel(), X2.ravel()]).T)\n",
    "Z = Z.reshape(X1.shape)\n",
    "\n",
    "# Plot decision boundary\n",
    "plt.figure(figsize=(10, 6))\n",
    "plt.contourf(X1, X2, Z, alpha=0.75, cmap=ListedColormap(('lightcoral', 'lightgreen')))\n",
    "\n",
    "# Plot training points\n",
    "plt.scatter(X_set[:, 0], X_set[:, 1], c=y_set, cmap=ListedColormap(('red', 'green')), edgecolor='k')\n",
    "\n",
    "plt.title('Classifier Decision Boundary (Training Set)')\n",
    "plt.xlabel('Feature 1 (e.g. Age)')\n",
    "plt.ylabel('Feature 2 (e.g. Salary)')\n",
    "plt.grid(True)\n",
    "plt.show()\n"
   ]
  },
  {
   "cell_type": "code",
   "execution_count": null,
   "id": "be1deddf",
   "metadata": {},
   "outputs": [],
   "source": [
    "\n",
    "import numpy as np\n",
    "import matplotlib.pyplot as plt\n",
    "from matplotlib.colors import ListedColormap\n",
    "\n",
    "# Assume you already have: X_train, Y_train, classifier\n",
    "\n",
    "# Create meshgrid\n",
    "X_set, y_set = X_test, Y_test.ravel()\n",
    "X1, X2 = np.meshgrid(\n",
    "    np.arange(start=X_set[:, 0].min() - 1, stop=X_set[:, 0].max() + 1, step=0.01),\n",
    "    np.arange(start=X_set[:, 1].min() - 1, stop=X_set[:, 1].max() + 1, step=0.01)\n",
    ")\n",
    "\n",
    "# Predict on meshgrid\n",
    "Z = classifier.predict(np.array([X1.ravel(), X2.ravel()]).T)\n",
    "Z = Z.reshape(X1.shape)\n",
    "\n",
    "# Plot decision boundary\n",
    "plt.figure(figsize=(10, 6))\n",
    "plt.contourf(X1, X2, Z, alpha=0.75, cmap=ListedColormap(('lightcoral', 'lightgreen')))\n",
    "\n",
    "# Plot training points\n",
    "plt.scatter(X_set[:, 0], X_set[:, 1], c=y_set, cmap=ListedColormap(('red', 'green')), edgecolor='k')\n",
    "\n",
    "plt.title('Classifier Decision Boundary (Test Set)')\n",
    "plt.xlabel('Feature 1 (e.g. Age)')\n",
    "plt.ylabel('Feature 2 (e.g. Salary)')\n",
    "plt.grid(True)\n",
    "plt.show()\n"
   ]
  }
 ],
 "metadata": {
  "kernelspec": {
   "display_name": "base",
   "language": "python",
   "name": "python3"
  },
  "language_info": {
   "codemirror_mode": {
    "name": "ipython",
    "version": 3
   },
   "file_extension": ".py",
   "mimetype": "text/x-python",
   "name": "python",
   "nbconvert_exporter": "python",
   "pygments_lexer": "ipython3",
   "version": "3.12.7"
  }
 },
 "nbformat": 4,
 "nbformat_minor": 5
}
