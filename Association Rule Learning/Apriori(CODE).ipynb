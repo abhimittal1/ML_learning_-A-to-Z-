{
 "cells": [
  {
   "cell_type": "markdown",
   "id": "4121607c",
   "metadata": {},
   "source": [
    "## Importing LIB and Data"
   ]
  },
  {
   "cell_type": "code",
   "execution_count": null,
   "id": "63db30af",
   "metadata": {},
   "outputs": [],
   "source": [
    "!pip install apyori\n"
   ]
  },
  {
   "cell_type": "code",
   "execution_count": null,
   "id": "9a62dd20",
   "metadata": {},
   "outputs": [],
   "source": [
    "import numpy as np\n",
    "import matplotlib.pyplot as plt\n",
    "import pandas as pd"
   ]
  },
  {
   "cell_type": "code",
   "execution_count": null,
   "id": "2b43c3c9",
   "metadata": {},
   "outputs": [],
   "source": [
    "# Load dataset\n",
    "dataset = pd.read_csv('Market_Basket_Optimisation.csv', header=None)\n",
    "\n",
    "# Convert dataset to list of transactions\n",
    "transactions = []\n",
    "\n",
    "for i in range(0, len(dataset)):  # loop through each row\n",
    "    row_items = []\n",
    "    for j in range(0, dataset.shape[1]):  # loop through each column\n",
    "        item = str(dataset.values[i, j])\n",
    "        if item != 'nan':\n",
    "            row_items.append(item)\n",
    "    transactions.append(row_items)"
   ]
  },
  {
   "cell_type": "code",
   "execution_count": null,
   "id": "79ebbe86",
   "metadata": {},
   "outputs": [],
   "source": [
    "for i in transactions:\n",
    "    print(i)"
   ]
  },
  {
   "cell_type": "markdown",
   "id": "635a3dae",
   "metadata": {},
   "source": [
    "## Making the Apriori Algo"
   ]
  },
  {
   "cell_type": "code",
   "execution_count": null,
   "id": "4541be1a",
   "metadata": {},
   "outputs": [],
   "source": [
    "from apyori import apriori\n",
    "\n",
    "# transactions is a list of lists: [['milk', 'bread'], ['eggs'], ...]\n",
    "rules = apriori(transactions=transactions , min_support=0.003, min_confidence=0.2, min_lift=3, min_length=2 , max_length = 2)"
   ]
  },
  {
   "cell_type": "markdown",
   "id": "cef061ee",
   "metadata": {},
   "source": [
    "## Visualize The Results"
   ]
  },
  {
   "cell_type": "code",
   "execution_count": null,
   "id": "44edcbb7",
   "metadata": {},
   "outputs": [],
   "source": [
    "results = list(rules)"
   ]
  },
  {
   "cell_type": "code",
   "execution_count": null,
   "id": "98a5587a",
   "metadata": {},
   "outputs": [],
   "source": [
    "def inspect(results):\n",
    "    lhs         = [tuple(result[2][0][0])[0] for result in results]\n",
    "    rhs         = [tuple(result[2][0][1])[0] for result in results]\n",
    "    supports    = [result[1] for result in results]\n",
    "    confidences = [result[2][0][2] for result in results]\n",
    "    lifts       = [result[2][0][3] for result in results]\n",
    "    return list(zip(lhs, rhs, supports, confidences, lifts))\n",
    "resultsinDataFrame = pd.DataFrame(inspect(results), columns = ['Left Hand Side', 'Right Hand Side', 'Support', 'Confidence', 'Lift'])"
   ]
  },
  {
   "cell_type": "code",
   "execution_count": null,
   "id": "df3b0702",
   "metadata": {},
   "outputs": [],
   "source": [
    "resultsinDataFrame"
   ]
  },
  {
   "cell_type": "code",
   "execution_count": null,
   "id": "9c49c2e0",
   "metadata": {},
   "outputs": [],
   "source": [
    "resultsinDataFrame.nlargest(n = 10, columns = 'Lift')"
   ]
  }
 ],
 "metadata": {
  "kernelspec": {
   "display_name": "base",
   "language": "python",
   "name": "python3"
  },
  "language_info": {
   "codemirror_mode": {
    "name": "ipython",
    "version": 3
   },
   "file_extension": ".py",
   "mimetype": "text/x-python",
   "name": "python",
   "nbconvert_exporter": "python",
   "pygments_lexer": "ipython3",
   "version": "3.12.7"
  }
 },
 "nbformat": 4,
 "nbformat_minor": 5
}
